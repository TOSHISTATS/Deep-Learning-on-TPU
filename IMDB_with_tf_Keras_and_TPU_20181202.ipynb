{
 "cells": [
  {
   "cell_type": "markdown",
   "metadata": {
    "colab_type": "text",
    "id": "Q3SNxLVUwAO5"
   },
   "source": [
    "# IMDB with tf.Keras and TPU 20181202"
   ]
  },
  {
   "cell_type": "markdown",
   "metadata": {
    "colab_type": "text",
    "id": "mZYOSVvXwUHr"
   },
   "source": [
    "## 1. Obtain IMDB dataset"
   ]
  },
  {
   "cell_type": "code",
   "execution_count": 1,
   "metadata": {
    "colab": {
     "base_uri": "https://localhost:8080/",
     "height": 50
    },
    "colab_type": "code",
    "id": "cLj2alHIot1W",
    "outputId": "0257b522-0cac-411d-c5bb-6f04a3a333bc"
   },
   "outputs": [
    {
     "name": "stdout",
     "output_type": "stream",
     "text": [
      "1.12.0\n",
      "2.1.6-tf\n"
     ]
    }
   ],
   "source": [
    "import numpy as np\n",
    "import six\n",
    "import tensorflow as tf\n",
    "import time\n",
    "import os\n",
    "\n",
    "print(tf.__version__)\n",
    "print(tf.keras.__version__)"
   ]
  },
  {
   "cell_type": "code",
   "execution_count": 2,
   "metadata": {
    "colab": {
     "base_uri": "https://localhost:8080/",
     "height": 118
    },
    "colab_type": "code",
    "id": "u4ac4AzsolQH",
    "outputId": "0cde2c76-6dc7-4dcf-ae18-0609f323a890"
   },
   "outputs": [
    {
     "name": "stdout",
     "output_type": "stream",
     "text": [
      "Loading data...\n",
      "25000 train sequences\n",
      "25000 test sequences\n",
      "Pad sequences (samples x time)\n",
      "x_train shape: (25000, 500)\n",
      "x_test shape: (25000, 500)\n"
     ]
    }
   ],
   "source": [
    "max_features = 10000  # number of words to consider as features\n",
    "SEQ_LEN=500  # cut texts after this number of words (among top max_features most common words)\n",
    "\n",
    "print('Loading data...')\n",
    "(x_train, y_train), (x_test, y_test) = tf.keras.datasets.imdb.load_data(num_words=max_features)\n",
    "print(len(x_train), 'train sequences')\n",
    "print(len(x_test), 'test sequences')\n",
    "\n",
    "print('Pad sequences (samples x time)')\n",
    "x_train = tf.keras.preprocessing.sequence.pad_sequences(x_train, maxlen=SEQ_LEN)\n",
    "x_test = tf.keras.preprocessing.sequence.pad_sequences(x_test, maxlen=SEQ_LEN)\n",
    "print('x_train shape:', x_train.shape)\n",
    "print('x_test shape:', x_test.shape)"
   ]
  },
  {
   "cell_type": "code",
   "execution_count": 0,
   "metadata": {
    "colab": {},
    "colab_type": "code",
    "id": "D1wzzq6TwiKK"
   },
   "outputs": [],
   "source": [
    "x_test=x_train[20000:25000]\n",
    "y_test=y_train[20000:25000]"
   ]
  },
  {
   "cell_type": "code",
   "execution_count": 0,
   "metadata": {
    "colab": {},
    "colab_type": "code",
    "id": "W3Tb07z4x1x4"
   },
   "outputs": [],
   "source": [
    "x_train=x_train[0:20000]\n",
    "y_train=y_train[0:20000]"
   ]
  },
  {
   "cell_type": "code",
   "execution_count": 5,
   "metadata": {
    "colab": {
     "base_uri": "https://localhost:8080/",
     "height": 84
    },
    "colab_type": "code",
    "id": "vZSIrdMrrYS6",
    "outputId": "f72754cd-6d3e-4205-af76-c1e3ab15f97e"
   },
   "outputs": [
    {
     "name": "stdout",
     "output_type": "stream",
     "text": [
      "(20000, 500)\n",
      "(20000,)\n",
      "(5000, 500)\n",
      "(5000,)\n"
     ]
    }
   ],
   "source": [
    "print(x_train.shape)\n",
    "print(y_train.shape)\n",
    "print(x_test.shape)\n",
    "print(y_test.shape)"
   ]
  },
  {
   "cell_type": "markdown",
   "metadata": {
    "colab_type": "text",
    "id": "Bbb05dNynDrQ"
   },
   "source": [
    "## 2.Build the model\n",
    "\n",
    "The model is defined as a two-layer, forward-LSTM—with two changes from the `tf.keras` standard LSTM definition:\n",
    "\n",
    "1. Define the input `shape` of our model which satisfies the [XLA compiler](https://www.tensorflow.org/performance/xla/)'s static shape requirement.\n",
    "2. Use `tf.train.Optimizer` instead of a standard Keras optimizer (Keras optimizer support is still experimental)."
   ]
  },
  {
   "cell_type": "code",
   "execution_count": 0,
   "metadata": {
    "colab": {},
    "colab_type": "code",
    "id": "CY5lCDt1t5cG"
   },
   "outputs": [],
   "source": [
    "BATCH_SIZE = 1024\n",
    "EPOCHS = 20\n",
    "\n",
    "EMBEDDING_DIM = 64"
   ]
  },
  {
   "cell_type": "code",
   "execution_count": 0,
   "metadata": {
    "colab": {},
    "colab_type": "code",
    "id": "79g69Iw0D_ng"
   },
   "outputs": [],
   "source": [
    "def model(seq_len=BATCH_SIZE, batch_size=None, stateful=False):\n",
    "  \n",
    "  source = tf.keras.Input(\n",
    "      name='seed', shape=(seq_len,), batch_size=batch_size, dtype=tf.int32)\n",
    "\n",
    "  embedding = tf.keras.layers.Embedding(input_dim=10000, output_dim=EMBEDDING_DIM)(source)\n",
    "  lstm_1 = tf.keras.layers.LSTM(EMBEDDING_DIM, stateful=stateful, return_sequences=False)(embedding)\n",
    "  #lstm_2 = tf.keras.layers.LSTM(EMBEDDING_DIM, stateful=stateful, return_sequences=False)(lstm_1)\n",
    "  predicted_char = tf.keras.layers.Dense(1, activation='sigmoid')(lstm_1)\n",
    "  model = tf.keras.Model(inputs=[source], outputs=[predicted_char])\n",
    "  \n",
    "  return model"
   ]
  },
  {
   "cell_type": "code",
   "execution_count": 0,
   "metadata": {
    "colab": {},
    "colab_type": "code",
    "id": "N2R4mI9srVdK"
   },
   "outputs": [],
   "source": [
    "model = model(seq_len=SEQ_LEN, batch_size=BATCH_SIZE, stateful=False)"
   ]
  },
  {
   "cell_type": "code",
   "execution_count": 9,
   "metadata": {
    "colab": {
     "base_uri": "https://localhost:8080/",
     "height": 269
    },
    "colab_type": "code",
    "id": "3winvY5frmq6",
    "outputId": "d4fcf7a4-da0f-445c-bcbd-31fc022a335b"
   },
   "outputs": [
    {
     "name": "stdout",
     "output_type": "stream",
     "text": [
      "_________________________________________________________________\n",
      "Layer (type)                 Output Shape              Param #   \n",
      "=================================================================\n",
      "seed (InputLayer)            (1024, 500)               0         \n",
      "_________________________________________________________________\n",
      "embedding (Embedding)        (1024, 500, 64)           640000    \n",
      "_________________________________________________________________\n",
      "lstm (LSTM)                  (1024, 64)                33024     \n",
      "_________________________________________________________________\n",
      "dense (Dense)                (1024, 1)                 65        \n",
      "=================================================================\n",
      "Total params: 673,089\n",
      "Trainable params: 673,089\n",
      "Non-trainable params: 0\n",
      "_________________________________________________________________\n"
     ]
    }
   ],
   "source": [
    "model.summary()"
   ]
  },
  {
   "cell_type": "markdown",
   "metadata": {
    "colab_type": "text",
    "id": "VzBYDJI0_Tfm"
   },
   "source": [
    "## 3.Train the model\n",
    "\n",
    "The `tf.contrib.tpu.keras_to_tpu_model` function converts a `tf.keras` model to an equivalent TPU version. We then use the standard Keras methods to train: `fit`, `predict`, and `evaluate`."
   ]
  },
  {
   "cell_type": "code",
   "execution_count": 10,
   "metadata": {
    "colab": {
     "base_uri": "https://localhost:8080/",
     "height": 339
    },
    "colab_type": "code",
    "id": "NxW5cxxPr-lo",
    "outputId": "07df8b3c-6309-46bc-8046-19a5d56e7a02"
   },
   "outputs": [
    {
     "name": "stdout",
     "output_type": "stream",
     "text": [
      "INFO:tensorflow:Querying Tensorflow master (b'grpc://10.100.206.122:8470') for TPU system metadata.\n",
      "INFO:tensorflow:Found TPU system:\n",
      "INFO:tensorflow:*** Num TPU Cores: 8\n",
      "INFO:tensorflow:*** Num TPU Workers: 1\n",
      "INFO:tensorflow:*** Num TPU Cores Per Worker: 8\n",
      "INFO:tensorflow:*** Available Device: _DeviceAttributes(/job:worker/replica:0/task:0/device:CPU:0, CPU, -1, 18328243821621706652)\n",
      "INFO:tensorflow:*** Available Device: _DeviceAttributes(/job:worker/replica:0/task:0/device:XLA_CPU:0, XLA_CPU, 17179869184, 8308018315895512029)\n",
      "INFO:tensorflow:*** Available Device: _DeviceAttributes(/job:worker/replica:0/task:0/device:XLA_GPU:0, XLA_GPU, 17179869184, 9214228356634114571)\n",
      "INFO:tensorflow:*** Available Device: _DeviceAttributes(/job:worker/replica:0/task:0/device:TPU:0, TPU, 17179869184, 17605395658903627103)\n",
      "INFO:tensorflow:*** Available Device: _DeviceAttributes(/job:worker/replica:0/task:0/device:TPU:1, TPU, 17179869184, 10022652993088569534)\n",
      "INFO:tensorflow:*** Available Device: _DeviceAttributes(/job:worker/replica:0/task:0/device:TPU:2, TPU, 17179869184, 2985430823263435787)\n",
      "INFO:tensorflow:*** Available Device: _DeviceAttributes(/job:worker/replica:0/task:0/device:TPU:3, TPU, 17179869184, 7226967301793169920)\n",
      "INFO:tensorflow:*** Available Device: _DeviceAttributes(/job:worker/replica:0/task:0/device:TPU:4, TPU, 17179869184, 3814721738737188128)\n",
      "INFO:tensorflow:*** Available Device: _DeviceAttributes(/job:worker/replica:0/task:0/device:TPU:5, TPU, 17179869184, 17271112498295557853)\n",
      "INFO:tensorflow:*** Available Device: _DeviceAttributes(/job:worker/replica:0/task:0/device:TPU:6, TPU, 17179869184, 17659352012321206100)\n",
      "INFO:tensorflow:*** Available Device: _DeviceAttributes(/job:worker/replica:0/task:0/device:TPU:7, TPU, 17179869184, 11474296086495039024)\n",
      "INFO:tensorflow:*** Available Device: _DeviceAttributes(/job:worker/replica:0/task:0/device:TPU_SYSTEM:0, TPU_SYSTEM, 17179869184, 15357569506275354169)\n",
      "WARNING:tensorflow:tpu_model (from tensorflow.contrib.tpu.python.tpu.keras_support) is experimental and may change or be removed at any time, and without warning.\n"
     ]
    }
   ],
   "source": [
    "strategy = tf.contrib.tpu.TPUDistributionStrategy(\n",
    "        tf.contrib.cluster_resolver.TPUClusterResolver(tpu='grpc://' + os.environ['COLAB_TPU_ADDR'])\n",
    "    )\n",
    "model = tf.contrib.tpu.keras_to_tpu_model(model, strategy=strategy)"
   ]
  },
  {
   "cell_type": "code",
   "execution_count": 0,
   "metadata": {
    "colab": {},
    "colab_type": "code",
    "id": "RdOep4FSnKs8"
   },
   "outputs": [],
   "source": [
    "   model.compile(\n",
    "      optimizer=tf.train.RMSPropOptimizer(learning_rate=0.01),\n",
    "      loss='binary_crossentropy',\n",
    "      metrics=['accuracy'])  \n"
   ]
  },
  {
   "cell_type": "code",
   "execution_count": 12,
   "metadata": {
    "colab": {
     "base_uri": "https://localhost:8080/",
     "height": 1142
    },
    "colab_type": "code",
    "id": "jBgKcjZOIy0W",
    "outputId": "9d935510-93ea-40cd-ccc4-418bfe9f7b38"
   },
   "outputs": [
    {
     "name": "stdout",
     "output_type": "stream",
     "text": [
      "Train on 20000 samples, validate on 5000 samples\n",
      "Epoch 1/20\n",
      "INFO:tensorflow:New input shapes; (re-)compiling: mode=train (# of cores 8), [TensorSpec(shape=(128,), dtype=tf.int32, name='core_id0'), TensorSpec(shape=(128, 500), dtype=tf.int32, name='seed_10'), TensorSpec(shape=(128, 1), dtype=tf.float32, name='dense_target_10')]\n",
      "INFO:tensorflow:Overriding default placeholder.\n",
      "INFO:tensorflow:Remapping placeholder for seed\n",
      "INFO:tensorflow:Started compiling\n",
      "INFO:tensorflow:Finished compiling. Time elapsed: 3.528717041015625 secs\n",
      "INFO:tensorflow:Setting weights on TPU model.\n",
      "18432/20000 [==========================>...] - ETA: 0s - loss: 0.6931 - acc: 0.5021INFO:tensorflow:New input shapes; (re-)compiling: mode=train (# of cores 8), [TensorSpec(shape=(68,), dtype=tf.int32, name='core_id0'), TensorSpec(shape=(68, 500), dtype=tf.int32, name='seed_10'), TensorSpec(shape=(68, 1), dtype=tf.float32, name='dense_target_10')]\n",
      "INFO:tensorflow:Overriding default placeholder.\n",
      "INFO:tensorflow:Remapping placeholder for seed\n",
      "INFO:tensorflow:Started compiling\n",
      "INFO:tensorflow:Finished compiling. Time elapsed: 3.8914852142333984 secs\n",
      "19456/20000 [============================>.] - ETA: 0s - loss: 0.6931 - acc: 0.5017INFO:tensorflow:New input shapes; (re-)compiling: mode=eval (# of cores 8), [TensorSpec(shape=(128,), dtype=tf.int32, name='core_id_10'), TensorSpec(shape=(128, 500), dtype=tf.int32, name='seed_10'), TensorSpec(shape=(128, 1), dtype=tf.float32, name='dense_target_10')]\n",
      "INFO:tensorflow:Overriding default placeholder.\n",
      "INFO:tensorflow:Remapping placeholder for seed\n",
      "INFO:tensorflow:Started compiling\n",
      "INFO:tensorflow:Finished compiling. Time elapsed: 4.576169729232788 secs\n",
      "INFO:tensorflow:New input shapes; (re-)compiling: mode=eval (# of cores 8), [TensorSpec(shape=(113,), dtype=tf.int32, name='core_id_10'), TensorSpec(shape=(113, 500), dtype=tf.int32, name='seed_10'), TensorSpec(shape=(113, 1), dtype=tf.float32, name='dense_target_10')]\n",
      "INFO:tensorflow:Overriding default placeholder.\n",
      "INFO:tensorflow:Remapping placeholder for seed\n",
      "INFO:tensorflow:Started compiling\n",
      "INFO:tensorflow:Finished compiling. Time elapsed: 5.949639558792114 secs\n",
      "20000/20000 [==============================] - 37s 2ms/step - loss: 0.6931 - acc: 0.5010 - val_loss: 0.6930 - val_acc: 0.5114\n",
      "Epoch 2/20\n",
      "20000/20000 [==============================] - 3s 127us/step - loss: 0.6931 - acc: 0.5025 - val_loss: 0.6930 - val_acc: 0.5160\n",
      "Epoch 3/20\n",
      "20000/20000 [==============================] - 3s 126us/step - loss: 0.6931 - acc: 0.5060 - val_loss: 0.6928 - val_acc: 0.5072\n",
      "Epoch 4/20\n",
      "20000/20000 [==============================] - 3s 125us/step - loss: 0.6930 - acc: 0.5060 - val_loss: 0.6926 - val_acc: 0.5150\n",
      "Epoch 5/20\n",
      "20000/20000 [==============================] - 3s 125us/step - loss: 0.6926 - acc: 0.5104 - val_loss: 0.6920 - val_acc: 0.5062\n",
      "Epoch 6/20\n",
      "20000/20000 [==============================] - 3s 127us/step - loss: 0.6912 - acc: 0.5166 - val_loss: 0.6899 - val_acc: 0.5108\n",
      "Epoch 7/20\n",
      "20000/20000 [==============================] - 3s 128us/step - loss: 0.7155 - acc: 0.5649 - val_loss: 0.6378 - val_acc: 0.6354\n",
      "Epoch 8/20\n",
      "20000/20000 [==============================] - 3s 127us/step - loss: 0.7204 - acc: 0.5542 - val_loss: 0.6576 - val_acc: 0.5838\n",
      "Epoch 9/20\n",
      "20000/20000 [==============================] - 2s 124us/step - loss: 0.6312 - acc: 0.6381 - val_loss: 0.6187 - val_acc: 0.6434\n",
      "Epoch 10/20\n",
      "20000/20000 [==============================] - 3s 128us/step - loss: 0.7104 - acc: 0.6293 - val_loss: 0.5973 - val_acc: 0.6716\n",
      "Epoch 11/20\n",
      "20000/20000 [==============================] - 3s 126us/step - loss: 0.5582 - acc: 0.7192 - val_loss: 0.5741 - val_acc: 0.6960\n",
      "Epoch 12/20\n",
      "20000/20000 [==============================] - 3s 127us/step - loss: 0.4993 - acc: 0.7650 - val_loss: 0.5265 - val_acc: 0.7416\n",
      "Epoch 13/20\n",
      "20000/20000 [==============================] - 3s 125us/step - loss: 0.4317 - acc: 0.8038 - val_loss: 0.6604 - val_acc: 0.6832\n",
      "Epoch 14/20\n",
      "20000/20000 [==============================] - 2s 125us/step - loss: 0.3538 - acc: 0.8472 - val_loss: 0.5365 - val_acc: 0.7696\n",
      "Epoch 15/20\n",
      "20000/20000 [==============================] - 2s 125us/step - loss: 0.2889 - acc: 0.8790 - val_loss: 0.4733 - val_acc: 0.8010\n",
      "Epoch 16/20\n",
      "20000/20000 [==============================] - 3s 125us/step - loss: 0.2320 - acc: 0.9087 - val_loss: 0.4315 - val_acc: 0.8292\n",
      "Epoch 17/20\n",
      "20000/20000 [==============================] - 2s 125us/step - loss: 0.1895 - acc: 0.9272 - val_loss: 0.4539 - val_acc: 0.8288\n",
      "Epoch 18/20\n",
      "20000/20000 [==============================] - 2s 124us/step - loss: 0.1488 - acc: 0.9453 - val_loss: 0.4480 - val_acc: 0.8356\n",
      "Epoch 19/20\n",
      "20000/20000 [==============================] - 3s 126us/step - loss: 0.1064 - acc: 0.9621 - val_loss: 0.5091 - val_acc: 0.8366\n",
      "Epoch 20/20\n",
      "20000/20000 [==============================] - 3s 126us/step - loss: 0.0720 - acc: 0.9765 - val_loss: 0.6313 - val_acc: 0.8336\n",
      "CPU times: user 9.52 s, sys: 935 ms, total: 10.5 s\n",
      "Wall time: 1min 24s\n"
     ]
    },
    {
     "data": {
      "text/plain": [
       "<tensorflow.python.keras.callbacks.History at 0x7f40ce1c1780>"
      ]
     },
     "execution_count": 12,
     "metadata": {
      "tags": []
     },
     "output_type": "execute_result"
    }
   ],
   "source": [
    "from tensorflow.keras.callbacks import History\n",
    "history = History()\n",
    "\n",
    "%time model.fit(x_train, y_train, batch_size=BATCH_SIZE, epochs=EPOCHS,  callbacks=[history], validation_data=(x_test, y_test))"
   ]
  },
  {
   "cell_type": "code",
   "execution_count": 13,
   "metadata": {
    "colab": {
     "base_uri": "https://localhost:8080/",
     "height": 349
    },
    "colab_type": "code",
    "id": "Pza2SE9nw6-J",
    "outputId": "95392746-d799-46ff-9ed9-4e8462ca8240"
   },
   "outputs": [
    {
     "data": {
      "image/png": "[encoded data removed]",
      "text/plain": [
       "<matplotlib.figure.Figure at 0x7f40caae7b00>"
      ]
     },
     "metadata": {
      "tags": []
     },
     "output_type": "display_data"
    }
   ],
   "source": [
    "import matplotlib.pyplot as plt\n",
    "\n",
    "acc = history.history['acc']\n",
    "val_acc = history.history['val_acc']\n",
    "loss = history.history['loss']\n",
    "val_loss = history.history['val_loss']\n",
    "\n",
    "epochs = range(len(acc))\n",
    "\n",
    "plt.figure(figsize=(15,5))\n",
    "\n",
    "plt.subplot(1, 2, 1)\n",
    "plt.plot(epochs, acc, label='Training acc')\n",
    "plt.plot(epochs, val_acc, label='Validation acc')\n",
    "plt.title('Training and validation accuracy')\n",
    "plt.xlabel('epoch')\n",
    "plt.ylabel('accuracy')\n",
    "plt.legend()\n",
    "            \n",
    "plt.subplot(1, 2, 2)\n",
    "plt.plot(epochs, loss, label='Training loss')\n",
    "plt.plot(epochs, val_loss, label='Validation loss')\n",
    "plt.title('Training and validation loss')\n",
    "plt.xlabel('epoch')\n",
    "plt.ylabel('loss')\n",
    "plt.legend()\n",
    "\n",
    "plt.show()"
   ]
  }
 ],
 "metadata": {
  "accelerator": "TPU",
  "colab": {
   "collapsed_sections": [],
   "name": "1.0_IMDB with tf.Keras and TPU 20181202",
   "provenance": [],
   "version": "0.3.2"
  },
  "kernelspec": {
   "display_name": "Python 3",
   "language": "python",
   "name": "python3"
  },
  "language_info": {
   "codemirror_mode": {
    "name": "ipython",
    "version": 3
   },
   "file_extension": ".py",
   "mimetype": "text/x-python",
   "name": "python",
   "nbconvert_exporter": "python",
   "pygments_lexer": "ipython3",
   "version": "3.6.4"
  }
 },
 "nbformat": 4,
 "nbformat_minor": 1
}
